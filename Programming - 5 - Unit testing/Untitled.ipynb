{
 "cells": [
  {
   "cell_type": "code",
   "execution_count": 3,
   "metadata": {},
   "outputs": [
    {
     "name": "stdout",
     "output_type": "stream",
     "text": [
      "============================= test session starts =============================\n",
      "platform win32 -- Python 3.8.3, pytest-5.4.3, py-1.9.0, pluggy-0.13.1\n",
      "rootdir: E:\\OneDrive\\Jupyter\\Programming - 5 - Unit testing\n",
      "collected 1 item\n",
      "\n",
      "test_1.py F                                                              [100%]\n",
      "\n",
      "================================== FAILURES ===================================\n",
      "________________________ test_on_string_with_one_comma ________________________\n",
      "\n",
      "    def test_on_string_with_one_comma():\n",
      "      # Complete the assert statement\n",
      "        test_argument = '2/081'\n",
      "        expected = 2081\n",
      ">       actual = convert_to_int(test_argument)\n",
      "\n",
      "test_1.py:17: \n",
      "_ _ _ _ _ _ _ _ _ _ _ _ _ _ _ _ _ _ _ _ _ _ _ _ _ _ _ _ _ _ _ _ _ _ _ _ _ _ _ _\n",
      "\n",
      "x = '2/081'\n",
      "\n",
      "    def convert_to_int(x):\n",
      "        \"\"\"\n",
      "        Converting string to INT\n",
      "        :param x: string to be converted\n",
      "        :return: integer from string\n",
      "        \"\"\"\n",
      "        y = x.replace(\",\",\"\")\n",
      ">       return int(y)\n",
      "E       ValueError: invalid literal for int() with base 10: '2/081'\n",
      "\n",
      "preprocessing_helpers1.py:14: ValueError\n",
      "=========================== short test summary info ===========================\n",
      "FAILED test_1.py::test_on_string_with_one_comma - ValueError: invalid literal...\n",
      "============================== 1 failed in 0.14s ==============================\n"
     ]
    }
   ],
   "source": [
    "!pytest test_1.py"
   ]
  },
  {
   "cell_type": "code",
   "execution_count": null,
   "metadata": {},
   "outputs": [],
   "source": []
  }
 ],
 "metadata": {
  "kernelspec": {
   "display_name": "Python 3",
   "language": "python",
   "name": "python3"
  },
  "language_info": {
   "codemirror_mode": {
    "name": "ipython",
    "version": 3
   },
   "file_extension": ".py",
   "mimetype": "text/x-python",
   "name": "python",
   "nbconvert_exporter": "python",
   "pygments_lexer": "ipython3",
   "version": "3.8.3"
  }
 },
 "nbformat": 4,
 "nbformat_minor": 4
}
